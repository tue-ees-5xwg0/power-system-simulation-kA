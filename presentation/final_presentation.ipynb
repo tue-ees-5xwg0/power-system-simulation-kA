{
 "cells": [
  {
   "cell_type": "markdown",
   "id": "06d6296d-9187-4737-ab9b-b73bc0d521bc",
   "metadata": {},
   "source": [
    "# Final Presentation Demo team kA\n",
    "\n",
    "This shows step by step the abilities of our package\n"
   ]
  },
  {
   "cell_type": "code",
   "execution_count": null,
   "id": "b5b52833-9e5e-40c8-a268-43a2bc0c35a9",
   "metadata": {},
   "outputs": [],
   "source": [
    "import pandas as pd\n",
    "import numpy as np\n",
    "import pytest\n",
    "from power_grid_model import ComponentType\n",
    "\n",
    "from power_system_simulation.exceptions import *\n",
    "from power_system_simulation.input_data_validation import *\n",
    "from power_system_simulation.graph_processing import *\n",
    "from power_system_simulation.power_grid_calculation import *\n",
    "\n",
    "path_small_test_grid = \"graph_cycle_disabled.json\"\n",
    "\n",
    "path_small_grid = \"small_power_grid/input_network_data.json\"\n",
    "path_small_meta_data = \"small_power_grid/meta_data.json\"\n",
    "path_small_p = \"small_power_grid/active_power_profile.parquet\"\n",
    "path_small_q = \"small_power_grid/reactive_power_profile.parquet\"\n",
    "path_small_ev = \"small_power_grid/ev_active_power_profile.parquet\"\n",
    "\n",
    "path_large_grid = \"large_power_grid/input_network_data.json\"\n",
    "path_large_meta_data = \"large_power_grid/meta_data.json\"\n",
    "path_large_p = \"large_power_grid/active_power_profile.parquet\"\n",
    "path_large_q = \"large_power_grid/reactive_power_profile.parquet\"\n",
    "path_large_ev = \"large_power_grid/ev_active_power_profile.parquet\"\n"
   ]
  },
  {
   "cell_type": "markdown",
   "id": "4ce68066",
   "metadata": {},
   "source": [
    "### Assignment 1: Graph processor"
   ]
  },
  {
   "cell_type": "markdown",
   "id": "2c9c4b0c",
   "metadata": {},
   "source": [
    "First, import a power_grid and create a graph out of it"
   ]
  },
  {
   "cell_type": "code",
   "execution_count": null,
   "id": "87c52ba3",
   "metadata": {},
   "outputs": [],
   "source": [
    "power_grid = load_grid_json(path_small_test_grid)\n",
    "graph = create_graph(power_grid)"
   ]
  },
  {
   "cell_type": "code",
   "execution_count": null,
   "id": "c8e4bf83",
   "metadata": {},
   "outputs": [],
   "source": [
    "\"\"\"\n",
    "The small test grid layout:\n",
    "\n",
    "1--<9>--2--[10]-3------(16)\n",
    "^       |       .\n",
    "20     [11]    [21]\n",
    "        |       .\n",
    "        4--[12]-5------(17)\n",
    "        |       .\n",
    "        [13]   [22]\n",
    "        |       .\n",
    "        6--[14]-7--[15]-8-----(19)\n",
    "                |\n",
    "               (18)\n",
    "\n",
    "\"\"\""
   ]
  },
  {
   "cell_type": "markdown",
   "id": "9814caca",
   "metadata": {},
   "source": [
    "### With this we can analyze some specifications and properties of the power-grid\n",
    "\n",
    "Such as alternative lines when a specified line gets disabled."
   ]
  },
  {
   "cell_type": "code",
   "execution_count": null,
   "id": "e0cab629-eced-4033-84d2-e110bbc447bf",
   "metadata": {},
   "outputs": [],
   "source": [
    "find_alternative_edges(graph, 11)"
   ]
  },
  {
   "cell_type": "code",
   "execution_count": null,
   "id": "ff69ba9b",
   "metadata": {},
   "outputs": [],
   "source": [
    "find_alternative_edges(graph, 12)"
   ]
  },
  {
   "cell_type": "code",
   "execution_count": null,
   "id": "bb07975d",
   "metadata": {},
   "outputs": [],
   "source": [
    "find_alternative_edges(graph, 15)"
   ]
  },
  {
   "cell_type": "code",
   "execution_count": null,
   "id": "e7b5c468",
   "metadata": {},
   "outputs": [],
   "source": [
    "try:\n",
    "    find_alternative_edges(graph, 21)\n",
    "except EdgeAlreadyDisabledError:\n",
    "    print(\"This edge is already disabled\")"
   ]
  },
  {
   "cell_type": "markdown",
   "id": "61bae557",
   "metadata": {},
   "source": [
    "And also any downstream vertices with respect to a source node."
   ]
  },
  {
   "cell_type": "code",
   "execution_count": null,
   "id": "55d11ca2",
   "metadata": {},
   "outputs": [],
   "source": [
    "\"\"\"\n",
    "The small test grid layout:\n",
    "\n",
    "1--<9>--2--[10]-3------(16)\n",
    "^       |       .\n",
    "20     [11]    [21]\n",
    "        |       .\n",
    "        4--[12]-5------(17)\n",
    "        |       .\n",
    "        [13]   [22]\n",
    "        |       .\n",
    "        6--[14]-7--[15]-8-----(19)\n",
    "                |\n",
    "               (18)\n",
    "\n",
    "\"\"\""
   ]
  },
  {
   "cell_type": "code",
   "execution_count": null,
   "id": "97e18ced",
   "metadata": {},
   "outputs": [],
   "source": [
    "find_downstream_vertices(graph, 10)"
   ]
  },
  {
   "cell_type": "code",
   "execution_count": null,
   "id": "c34affda",
   "metadata": {},
   "outputs": [],
   "source": [
    "find_downstream_vertices(graph, 11)"
   ]
  },
  {
   "cell_type": "code",
   "execution_count": null,
   "id": "ad6d8da8",
   "metadata": {},
   "outputs": [],
   "source": [
    "graph.graph[\"source_node_id\"] = 4\n",
    "\n",
    "find_downstream_vertices(graph, 11)"
   ]
  },
  {
   "cell_type": "markdown",
   "id": "5ce7ec38",
   "metadata": {},
   "source": [
    "### Assignment 2: Power Flow simulations\n",
    "\n",
    "This is accomplished by using the PowerGrid class. This class contains the logic for running the model, and generates a graph internally for easy tracking and updating of the graph with respect to the power-grid data."
   ]
  },
  {
   "cell_type": "code",
   "execution_count": null,
   "id": "a4b844ad",
   "metadata": {},
   "outputs": [],
   "source": [
    "power_grid = PowerGrid(path_small_grid, path_small_meta_data, path_small_p, path_small_q)\n",
    "power_grid.run()\n",
    "\n",
    "power_grid.line_summary"
   ]
  },
  {
   "cell_type": "code",
   "execution_count": null,
   "id": "9a2fb575",
   "metadata": {},
   "outputs": [],
   "source": [
    "power_grid.voltage_summary"
   ]
  },
  {
   "cell_type": "code",
   "execution_count": null,
   "id": "bba3c2c9",
   "metadata": {},
   "outputs": [],
   "source": [
    "\"\"\"\n",
    "The small grid layout:\n",
    "\n",
    "                    3------(12)\n",
    "                    |\n",
    "                   [17]\n",
    "                    |    \n",
    "           /--[16]--2--[18]--4--[19]--5------(13)\n",
    "          /                  .\n",
    "0--<11>--1                  [24]\n",
    "^         \\                  .\n",
    "10         \\--[20]--6--[22]--8--[23]--9------(15)\n",
    "                    |\n",
    "                   [21]\n",
    "                    |\n",
    "                    7------(14)\n",
    "\n",
    "\"\"\""
   ]
  },
  {
   "cell_type": "code",
   "execution_count": null,
   "id": "64e70f3d",
   "metadata": {},
   "outputs": [],
   "source": [
    "find_alternative_edges(power_grid.graph, 22)"
   ]
  },
  {
   "cell_type": "code",
   "execution_count": null,
   "id": "c9422a63",
   "metadata": {},
   "outputs": [],
   "source": [
    "find_alternative_edges(power_grid.graph, 11)"
   ]
  },
  {
   "cell_type": "code",
   "execution_count": null,
   "id": "d79218af",
   "metadata": {},
   "outputs": [],
   "source": [
    "\"\"\"\n",
    "The small grid layout:\n",
    "\n",
    "                    3------(12)\n",
    "                    |\n",
    "                   [17]\n",
    "                    |    \n",
    "           /--[16]--2--[18]--4--[19]--5------(13)\n",
    "          /                  .\n",
    "0--<11>--1                  [24]\n",
    "^         \\                  .\n",
    "10         \\--[20]--6--[22]--8--[23]--9------(15)\n",
    "                    |\n",
    "                   [21]\n",
    "                    |\n",
    "                    7------(14)\n",
    "\n",
    "\"\"\""
   ]
  },
  {
   "cell_type": "code",
   "execution_count": null,
   "id": "98f4573b",
   "metadata": {},
   "outputs": [],
   "source": [
    "find_downstream_vertices(power_grid.graph, 11)"
   ]
  },
  {
   "cell_type": "code",
   "execution_count": null,
   "id": "6ab61005",
   "metadata": {},
   "outputs": [],
   "source": [
    "find_downstream_vertices(power_grid.graph, 16)"
   ]
  },
  {
   "cell_type": "code",
   "execution_count": null,
   "id": "670687aa",
   "metadata": {},
   "outputs": [],
   "source": [
    "power_grid.graph.graph[\"source_node_id\"] = 9\n",
    "\n",
    "find_downstream_vertices(power_grid.graph, 20)"
   ]
  },
  {
   "cell_type": "markdown",
   "id": "2e33d51c",
   "metadata": {},
   "source": [
    "### Assignment 3: Features build on the PowerGrid class\n",
    "\n",
    "Three features are designed to work on top with the data and functionality of the PowerGrid class\n",
    "\n",
    "1. EV penetration level\n",
    "    - Simulates a certain percentage of households with EV charges and calculates the additional load on the grid.\n",
    "2. Optimal tap position\n",
    "    - Calculates the optimal position of the transformer tap to optimize for one of the following 2 criteria:\n",
    "        - Lowest average voltage deviation at the nodes\n",
    "        - Lowest total energy loss in the lines\n",
    "3. n-1 calculation\n",
    "    - When a given line is disabled it will try to find an alternative line and calculate the power flow again. The results are returned in a table with a row for each alternative line, which stores the highest line load in the grid."
   ]
  },
  {
   "cell_type": "code",
   "execution_count": null,
   "id": "0baafa12",
   "metadata": {},
   "outputs": [],
   "source": [
    "power_grid = PowerGrid(path_large_grid, path_large_meta_data, path_large_p, path_large_q)\n",
    "power_grid.run()"
   ]
  },
  {
   "cell_type": "code",
   "execution_count": null,
   "id": "165bfe2e",
   "metadata": {},
   "outputs": [],
   "source": [
    "power_grid.line_summary"
   ]
  },
  {
   "cell_type": "code",
   "execution_count": null,
   "id": "7e74ad98",
   "metadata": {},
   "outputs": [],
   "source": [
    "power_grid.voltage_summary"
   ]
  },
  {
   "cell_type": "markdown",
   "id": "2076ef35",
   "metadata": {},
   "source": [
    "Firtst the ev penetration level"
   ]
  },
  {
   "cell_type": "code",
   "execution_count": null,
   "id": "d9f3376c",
   "metadata": {},
   "outputs": [],
   "source": [
    "ev_penetration = ev_penetration_level(power_grid, path_large_ev, 0.2)"
   ]
  },
  {
   "cell_type": "code",
   "execution_count": null,
   "id": "39eed9fc",
   "metadata": {},
   "outputs": [],
   "source": [
    "ev_penetration[0]"
   ]
  },
  {
   "cell_type": "code",
   "execution_count": null,
   "id": "4f6892e2",
   "metadata": {},
   "outputs": [],
   "source": [
    "ev_penetration[1]"
   ]
  },
  {
   "cell_type": "code",
   "execution_count": null,
   "id": "56f623b4",
   "metadata": {},
   "outputs": [],
   "source": [
    "power_grid.voltage_summary.compare(ev_penetration[0])"
   ]
  },
  {
   "cell_type": "code",
   "execution_count": null,
   "id": "1028f7f0",
   "metadata": {},
   "outputs": [],
   "source": [
    "power_grid.line_summary.compare(ev_penetration[1])"
   ]
  },
  {
   "cell_type": "markdown",
   "id": "b058b801",
   "metadata": {},
   "source": [
    "Optimal tap position"
   ]
  },
  {
   "cell_type": "code",
   "execution_count": null,
   "id": "5885cc72",
   "metadata": {},
   "outputs": [],
   "source": [
    "tap_position_1 = optimum_tap_position(power_grid, \"minimal_deviation_u_pu\")\n",
    "print(tap_position_1)"
   ]
  },
  {
   "cell_type": "code",
   "execution_count": null,
   "id": "0b562daf",
   "metadata": {},
   "outputs": [],
   "source": [
    "tap_position_2 = optimum_tap_position(power_grid, \"minimal_energy_loss\")\n",
    "print(tap_position_2)"
   ]
  },
  {
   "cell_type": "markdown",
   "id": "4e45592e",
   "metadata": {},
   "source": [
    "n-1 calculation"
   ]
  },
  {
   "cell_type": "code",
   "execution_count": null,
   "id": "e7fad634",
   "metadata": {},
   "outputs": [],
   "source": [
    "n_1_calculation_1 = n_1_calculation(power_grid, 1353)\n",
    "n_1_calculation_1"
   ]
  },
  {
   "cell_type": "code",
   "execution_count": null,
   "id": "c75d7d1f",
   "metadata": {},
   "outputs": [],
   "source": [
    "n_1_calculation_2 = n_1_calculation(power_grid, 1354)\n",
    "n_1_calculation_2"
   ]
  }
 ],
 "metadata": {
  "kernelspec": {
   "display_name": ".venv",
   "language": "python",
   "name": "python3"
  },
  "language_info": {
   "codemirror_mode": {
    "name": "ipython",
    "version": 3
   },
   "file_extension": ".py",
   "mimetype": "text/x-python",
   "name": "python",
   "nbconvert_exporter": "python",
   "pygments_lexer": "ipython3",
   "version": "3.12.3"
  }
 },
 "nbformat": 4,
 "nbformat_minor": 5
}

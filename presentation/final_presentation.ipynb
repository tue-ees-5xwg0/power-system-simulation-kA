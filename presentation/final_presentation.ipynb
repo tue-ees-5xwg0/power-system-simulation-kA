{
 "cells": [
  {
   "cell_type": "markdown",
   "id": "06d6296d-9187-4737-ab9b-b73bc0d521bc",
   "metadata": {},
   "source": [
    "# Final Presentation Demo team kA\n",
    "\n",
    "This shows step by step the abilities of our package\n"
   ]
  },
  {
   "cell_type": "code",
   "execution_count": 1,
   "id": "b5b52833-9e5e-40c8-a268-43a2bc0c35a9",
   "metadata": {},
   "outputs": [],
   "source": [
    "import pandas as pd\n",
    "import numpy as np\n",
    "import pytest\n",
    "from power_grid_model import ComponentType\n",
    "\n",
    "from power_system_simulation.exceptions import *\n",
    "from power_system_simulation.input_data_validation import *\n",
    "from power_system_simulation.graph_processing import *\n",
    "from power_system_simulation.power_grid_calculation import *\n",
    "\n",
    "path_small_test_grid = \"graph_cycle_disabled.json\"\n",
    "\n",
    "path_small_grid = \"small_power_grid/input_network_data.json\"\n",
    "path_small_meta_data = \"small_power_grid/meta_data.json\"\n",
    "path_small_p = \"small_power_grid/active_power_profile.parquet\"\n",
    "path_small_q = \"small_power_grid/reactive_power_profile.parquet\"\n",
    "path_small_ev = \"small_power_grid/ev_active_power_profile.parquet\"\n",
    "\n",
    "path_large_grid = \"large_power_grid/input_network_data.json\"\n",
    "path_large_meta_data = \"large_power_grid/meta_data.json\"\n",
    "path_large_p = \"large_power_grid/active_power_profile.parquet\"\n",
    "path_large_q = \"large_power_grid/reactive_power_profile.parquet\"\n",
    "path_large_ev = \"large_power_grid/ev_active_power_profile.parquet\"\n"
   ]
  },
  {
   "cell_type": "markdown",
   "id": "4ce68066",
   "metadata": {},
   "source": [
    "### Assignment 1: Graph processor"
   ]
  },
  {
   "cell_type": "markdown",
   "id": "2c9c4b0c",
   "metadata": {},
   "source": [
    "First, import a power_grid and create a graph out of it"
   ]
  },
  {
   "cell_type": "code",
   "execution_count": 2,
   "id": "87c52ba3",
   "metadata": {},
   "outputs": [],
   "source": [
    "power_grid = load_grid_json(path_small_test_grid)\n",
    "graph = create_graph(power_grid)"
   ]
  },
  {
   "cell_type": "code",
   "execution_count": 3,
   "id": "c8e4bf83",
   "metadata": {},
   "outputs": [
    {
     "data": {
      "text/plain": [
       "'\\nThe small test grid layout:\\n\\n1--<9>--2--[10]-3------(16)\\n^       |       .\\n20     [11]    [21]\\n        |       .\\n        4--[12]-5------(17)\\n        |       .\\n        [13]   [22]\\n        |       .\\n        6--[14]-7--[15]-8-----(19)\\n                |\\n               (18)\\n\\n'"
      ]
     },
     "execution_count": 3,
     "metadata": {},
     "output_type": "execute_result"
    }
   ],
   "source": [
    "\"\"\"\n",
    "The small test grid layout:\n",
    "\n",
    "1--<9>--2--[10]-3------(16)\n",
    "^       |       .\n",
    "20     [11]    [21]\n",
    "        |       .\n",
    "        4--[12]-5------(17)\n",
    "        |       .\n",
    "        [13]   [22]\n",
    "        |       .\n",
    "        6--[14]-7--[15]-8-----(19)\n",
    "                |\n",
    "               (18)\n",
    "\n",
    "\"\"\""
   ]
  },
  {
   "cell_type": "markdown",
   "id": "9814caca",
   "metadata": {},
   "source": [
    "### With this we can analyze some specifications and properties of the power-grid\n",
    "\n",
    "Such as alternative lines when a specified line gets disabled."
   ]
  },
  {
   "cell_type": "code",
   "execution_count": 4,
   "id": "e0cab629-eced-4033-84d2-e110bbc447bf",
   "metadata": {},
   "outputs": [
    {
     "data": {
      "text/plain": [
       "[np.int32(21)]"
      ]
     },
     "execution_count": 4,
     "metadata": {},
     "output_type": "execute_result"
    }
   ],
   "source": [
    "find_alternative_edges(graph, 11)"
   ]
  },
  {
   "cell_type": "code",
   "execution_count": 5,
   "id": "ff69ba9b",
   "metadata": {},
   "outputs": [
    {
     "data": {
      "text/plain": [
       "[np.int32(21), np.int32(22)]"
      ]
     },
     "execution_count": 5,
     "metadata": {},
     "output_type": "execute_result"
    }
   ],
   "source": [
    "find_alternative_edges(graph, 12)"
   ]
  },
  {
   "cell_type": "code",
   "execution_count": 6,
   "id": "bb07975d",
   "metadata": {},
   "outputs": [
    {
     "data": {
      "text/plain": [
       "[]"
      ]
     },
     "execution_count": 6,
     "metadata": {},
     "output_type": "execute_result"
    }
   ],
   "source": [
    "find_alternative_edges(graph, 15)"
   ]
  },
  {
   "cell_type": "markdown",
   "id": "61bae557",
   "metadata": {},
   "source": [
    "And also any downstream vertices with respect to a source node."
   ]
  },
  {
   "cell_type": "code",
   "execution_count": 7,
   "id": "97e18ced",
   "metadata": {},
   "outputs": [
    {
     "data": {
      "text/plain": [
       "[np.int32(3)]"
      ]
     },
     "execution_count": 7,
     "metadata": {},
     "output_type": "execute_result"
    }
   ],
   "source": [
    "find_downstream_vertices(graph, 10)"
   ]
  },
  {
   "cell_type": "code",
   "execution_count": 8,
   "id": "c34affda",
   "metadata": {},
   "outputs": [
    {
     "data": {
      "text/plain": [
       "[np.int32(4), np.int32(5), np.int32(6), np.int32(7), np.int32(8)]"
      ]
     },
     "execution_count": 8,
     "metadata": {},
     "output_type": "execute_result"
    }
   ],
   "source": [
    "find_downstream_vertices(graph, 11)"
   ]
  },
  {
   "cell_type": "code",
   "execution_count": 9,
   "id": "ad6d8da8",
   "metadata": {},
   "outputs": [
    {
     "data": {
      "text/plain": [
       "[np.int32(1), np.int32(2), np.int32(3)]"
      ]
     },
     "execution_count": 9,
     "metadata": {},
     "output_type": "execute_result"
    }
   ],
   "source": [
    "graph.graph[\"source_node_id\"] = 4\n",
    "\n",
    "find_downstream_vertices(graph, 11)"
   ]
  },
  {
   "cell_type": "markdown",
   "id": "5ce7ec38",
   "metadata": {},
   "source": [
    "### Assignment 2: Power Flow simulations\n",
    "\n",
    "This is accomplished by using the PowerGrid class. This class contains the logic for running the model, and generates a graph internally for easy tracking and updating of the graph with respect to the power-grid data."
   ]
  },
  {
   "cell_type": "code",
   "execution_count": 10,
   "id": "a4b844ad",
   "metadata": {},
   "outputs": [
    {
     "data": {
      "text/html": [
       "<div>\n",
       "<style scoped>\n",
       "    .dataframe tbody tr th:only-of-type {\n",
       "        vertical-align: middle;\n",
       "    }\n",
       "\n",
       "    .dataframe tbody tr th {\n",
       "        vertical-align: top;\n",
       "    }\n",
       "\n",
       "    .dataframe thead th {\n",
       "        text-align: right;\n",
       "    }\n",
       "</style>\n",
       "<table border=\"1\" class=\"dataframe\">\n",
       "  <thead>\n",
       "    <tr style=\"text-align: right;\">\n",
       "      <th></th>\n",
       "      <th>energy_loss</th>\n",
       "      <th>max_loading_timestamp</th>\n",
       "      <th>max_loading</th>\n",
       "      <th>min_loading_timestamp</th>\n",
       "      <th>min_loading</th>\n",
       "    </tr>\n",
       "    <tr>\n",
       "      <th>line</th>\n",
       "      <th></th>\n",
       "      <th></th>\n",
       "      <th></th>\n",
       "      <th></th>\n",
       "      <th></th>\n",
       "    </tr>\n",
       "  </thead>\n",
       "  <tbody>\n",
       "    <tr>\n",
       "      <th>16</th>\n",
       "      <td>22.898797</td>\n",
       "      <td>2025-01-04 06:30:00</td>\n",
       "      <td>0.308152</td>\n",
       "      <td>2025-01-08 12:30:00</td>\n",
       "      <td>0.056235</td>\n",
       "    </tr>\n",
       "    <tr>\n",
       "      <th>17</th>\n",
       "      <td>1.172405</td>\n",
       "      <td>2025-01-04 09:45:00</td>\n",
       "      <td>0.160315</td>\n",
       "      <td>2025-01-08 11:30:00</td>\n",
       "      <td>0.026153</td>\n",
       "    </tr>\n",
       "    <tr>\n",
       "      <th>18</th>\n",
       "      <td>34.828580</td>\n",
       "      <td>2025-01-07 10:45:00</td>\n",
       "      <td>0.163169</td>\n",
       "      <td>2025-01-05 17:45:00</td>\n",
       "      <td>0.026844</td>\n",
       "    </tr>\n",
       "    <tr>\n",
       "      <th>19</th>\n",
       "      <td>1.333249</td>\n",
       "      <td>2025-01-07 10:45:00</td>\n",
       "      <td>0.163366</td>\n",
       "      <td>2025-01-05 17:45:00</td>\n",
       "      <td>0.026425</td>\n",
       "    </tr>\n",
       "    <tr>\n",
       "      <th>20</th>\n",
       "      <td>22.541055</td>\n",
       "      <td>2025-01-07 10:45:00</td>\n",
       "      <td>0.324606</td>\n",
       "      <td>2025-01-02 14:30:00</td>\n",
       "      <td>0.053688</td>\n",
       "    </tr>\n",
       "    <tr>\n",
       "      <th>21</th>\n",
       "      <td>1.220496</td>\n",
       "      <td>2025-01-07 10:30:00</td>\n",
       "      <td>0.161755</td>\n",
       "      <td>2025-01-02 14:30:00</td>\n",
       "      <td>0.024864</td>\n",
       "    </tr>\n",
       "    <tr>\n",
       "      <th>22</th>\n",
       "      <td>31.185873</td>\n",
       "      <td>2025-01-07 10:45:00</td>\n",
       "      <td>0.173607</td>\n",
       "      <td>2025-01-02 12:30:00</td>\n",
       "      <td>0.025599</td>\n",
       "    </tr>\n",
       "    <tr>\n",
       "      <th>23</th>\n",
       "      <td>1.394214</td>\n",
       "      <td>2025-01-07 10:45:00</td>\n",
       "      <td>0.173514</td>\n",
       "      <td>2025-01-02 12:30:00</td>\n",
       "      <td>0.025472</td>\n",
       "    </tr>\n",
       "    <tr>\n",
       "      <th>24</th>\n",
       "      <td>227.112446</td>\n",
       "      <td>2025-01-10 21:15:00</td>\n",
       "      <td>0.001279</td>\n",
       "      <td>2025-01-04 09:45:00</td>\n",
       "      <td>0.001262</td>\n",
       "    </tr>\n",
       "  </tbody>\n",
       "</table>\n",
       "</div>"
      ],
      "text/plain": [
       "      energy_loss max_loading_timestamp  max_loading min_loading_timestamp  \\\n",
       "line                                                                         \n",
       "16      22.898797   2025-01-04 06:30:00     0.308152   2025-01-08 12:30:00   \n",
       "17       1.172405   2025-01-04 09:45:00     0.160315   2025-01-08 11:30:00   \n",
       "18      34.828580   2025-01-07 10:45:00     0.163169   2025-01-05 17:45:00   \n",
       "19       1.333249   2025-01-07 10:45:00     0.163366   2025-01-05 17:45:00   \n",
       "20      22.541055   2025-01-07 10:45:00     0.324606   2025-01-02 14:30:00   \n",
       "21       1.220496   2025-01-07 10:30:00     0.161755   2025-01-02 14:30:00   \n",
       "22      31.185873   2025-01-07 10:45:00     0.173607   2025-01-02 12:30:00   \n",
       "23       1.394214   2025-01-07 10:45:00     0.173514   2025-01-02 12:30:00   \n",
       "24     227.112446   2025-01-10 21:15:00     0.001279   2025-01-04 09:45:00   \n",
       "\n",
       "      min_loading  \n",
       "line               \n",
       "16       0.056235  \n",
       "17       0.026153  \n",
       "18       0.026844  \n",
       "19       0.026425  \n",
       "20       0.053688  \n",
       "21       0.024864  \n",
       "22       0.025599  \n",
       "23       0.025472  \n",
       "24       0.001262  "
      ]
     },
     "execution_count": 10,
     "metadata": {},
     "output_type": "execute_result"
    }
   ],
   "source": [
    "power_grid = PowerGrid(path_small_grid, path_small_meta_data, path_small_p, path_small_q)\n",
    "power_grid.run()\n",
    "\n",
    "power_grid.line_summary"
   ]
  },
  {
   "cell_type": "code",
   "execution_count": 11,
   "id": "9a2fb575",
   "metadata": {},
   "outputs": [
    {
     "data": {
      "text/html": [
       "<div>\n",
       "<style scoped>\n",
       "    .dataframe tbody tr th:only-of-type {\n",
       "        vertical-align: middle;\n",
       "    }\n",
       "\n",
       "    .dataframe tbody tr th {\n",
       "        vertical-align: top;\n",
       "    }\n",
       "\n",
       "    .dataframe thead th {\n",
       "        text-align: right;\n",
       "    }\n",
       "</style>\n",
       "<table border=\"1\" class=\"dataframe\">\n",
       "  <thead>\n",
       "    <tr style=\"text-align: right;\">\n",
       "      <th></th>\n",
       "      <th>max_u_pu_node</th>\n",
       "      <th>max_u_pu</th>\n",
       "      <th>min_u_pu_node</th>\n",
       "      <th>min_u_pu</th>\n",
       "    </tr>\n",
       "    <tr>\n",
       "      <th>timestamp</th>\n",
       "      <th></th>\n",
       "      <th></th>\n",
       "      <th></th>\n",
       "      <th></th>\n",
       "    </tr>\n",
       "  </thead>\n",
       "  <tbody>\n",
       "    <tr>\n",
       "      <th>2025-01-01 00:00:00</th>\n",
       "      <td>1</td>\n",
       "      <td>1.072931</td>\n",
       "      <td>0</td>\n",
       "      <td>1.049819</td>\n",
       "    </tr>\n",
       "    <tr>\n",
       "      <th>2025-01-01 00:15:00</th>\n",
       "      <td>1</td>\n",
       "      <td>1.075911</td>\n",
       "      <td>0</td>\n",
       "      <td>1.050022</td>\n",
       "    </tr>\n",
       "    <tr>\n",
       "      <th>2025-01-01 00:30:00</th>\n",
       "      <td>1</td>\n",
       "      <td>1.069725</td>\n",
       "      <td>0</td>\n",
       "      <td>1.049603</td>\n",
       "    </tr>\n",
       "    <tr>\n",
       "      <th>2025-01-01 00:45:00</th>\n",
       "      <td>1</td>\n",
       "      <td>1.073244</td>\n",
       "      <td>0</td>\n",
       "      <td>1.049842</td>\n",
       "    </tr>\n",
       "    <tr>\n",
       "      <th>2025-01-01 01:00:00</th>\n",
       "      <td>1</td>\n",
       "      <td>1.072924</td>\n",
       "      <td>0</td>\n",
       "      <td>1.049819</td>\n",
       "    </tr>\n",
       "    <tr>\n",
       "      <th>...</th>\n",
       "      <td>...</td>\n",
       "      <td>...</td>\n",
       "      <td>...</td>\n",
       "      <td>...</td>\n",
       "    </tr>\n",
       "    <tr>\n",
       "      <th>2025-01-10 22:45:00</th>\n",
       "      <td>1</td>\n",
       "      <td>1.071457</td>\n",
       "      <td>0</td>\n",
       "      <td>1.049730</td>\n",
       "    </tr>\n",
       "    <tr>\n",
       "      <th>2025-01-10 23:00:00</th>\n",
       "      <td>1</td>\n",
       "      <td>1.075341</td>\n",
       "      <td>0</td>\n",
       "      <td>1.049993</td>\n",
       "    </tr>\n",
       "    <tr>\n",
       "      <th>2025-01-10 23:15:00</th>\n",
       "      <td>1</td>\n",
       "      <td>1.072623</td>\n",
       "      <td>0</td>\n",
       "      <td>1.049803</td>\n",
       "    </tr>\n",
       "    <tr>\n",
       "      <th>2025-01-10 23:30:00</th>\n",
       "      <td>1</td>\n",
       "      <td>1.071624</td>\n",
       "      <td>0</td>\n",
       "      <td>1.049741</td>\n",
       "    </tr>\n",
       "    <tr>\n",
       "      <th>2025-01-10 23:45:00</th>\n",
       "      <td>1</td>\n",
       "      <td>1.076290</td>\n",
       "      <td>0</td>\n",
       "      <td>1.050056</td>\n",
       "    </tr>\n",
       "  </tbody>\n",
       "</table>\n",
       "<p>960 rows × 4 columns</p>\n",
       "</div>"
      ],
      "text/plain": [
       "                     max_u_pu_node  max_u_pu  min_u_pu_node  min_u_pu\n",
       "timestamp                                                            \n",
       "2025-01-01 00:00:00              1  1.072931              0  1.049819\n",
       "2025-01-01 00:15:00              1  1.075911              0  1.050022\n",
       "2025-01-01 00:30:00              1  1.069725              0  1.049603\n",
       "2025-01-01 00:45:00              1  1.073244              0  1.049842\n",
       "2025-01-01 01:00:00              1  1.072924              0  1.049819\n",
       "...                            ...       ...            ...       ...\n",
       "2025-01-10 22:45:00              1  1.071457              0  1.049730\n",
       "2025-01-10 23:00:00              1  1.075341              0  1.049993\n",
       "2025-01-10 23:15:00              1  1.072623              0  1.049803\n",
       "2025-01-10 23:30:00              1  1.071624              0  1.049741\n",
       "2025-01-10 23:45:00              1  1.076290              0  1.050056\n",
       "\n",
       "[960 rows x 4 columns]"
      ]
     },
     "execution_count": 11,
     "metadata": {},
     "output_type": "execute_result"
    }
   ],
   "source": [
    "power_grid.voltage_summary"
   ]
  },
  {
   "cell_type": "code",
   "execution_count": 12,
   "id": "bba3c2c9",
   "metadata": {},
   "outputs": [
    {
     "data": {
      "text/plain": [
       "'\\nThe small grid layout:\\n\\n                    3------(12)\\n                    |\\n                   [17]\\n                    |    \\n           /--[16]--2--[18]--4--[19]--5------(13)\\n          /                  .\\n0--<11>--1                  [24]\\n^         \\\\                  .\\n10         \\\\--[20]--6--[22]--8--[23]--9------(15)\\n                    |\\n                   [21]\\n                    |\\n                    7------(14)\\n\\n'"
      ]
     },
     "execution_count": 12,
     "metadata": {},
     "output_type": "execute_result"
    }
   ],
   "source": [
    "\"\"\"\n",
    "The small grid layout:\n",
    "\n",
    "                    3------(12)\n",
    "                    |\n",
    "                   [17]\n",
    "                    |    \n",
    "           /--[16]--2--[18]--4--[19]--5------(13)\n",
    "          /                  .\n",
    "0--<11>--1                  [24]\n",
    "^         \\                  .\n",
    "10         \\--[20]--6--[22]--8--[23]--9------(15)\n",
    "                    |\n",
    "                   [21]\n",
    "                    |\n",
    "                    7------(14)\n",
    "\n",
    "\"\"\""
   ]
  },
  {
   "cell_type": "code",
   "execution_count": 13,
   "id": "64e70f3d",
   "metadata": {},
   "outputs": [
    {
     "data": {
      "text/plain": [
       "[np.int32(24)]"
      ]
     },
     "execution_count": 13,
     "metadata": {},
     "output_type": "execute_result"
    }
   ],
   "source": [
    "find_alternative_edges(power_grid.graph, 22)"
   ]
  },
  {
   "cell_type": "code",
   "execution_count": 14,
   "id": "c9422a63",
   "metadata": {},
   "outputs": [
    {
     "data": {
      "text/plain": [
       "[]"
      ]
     },
     "execution_count": 14,
     "metadata": {},
     "output_type": "execute_result"
    }
   ],
   "source": [
    "find_alternative_edges(power_grid.graph, 11)"
   ]
  },
  {
   "cell_type": "code",
   "execution_count": 15,
   "id": "d79218af",
   "metadata": {},
   "outputs": [
    {
     "data": {
      "text/plain": [
       "'\\nThe small grid layout:\\n\\n                    3------(12)\\n                    |\\n                   [17]\\n                    |    \\n           /--[16]--2--[18]--4--[19]--5------(13)\\n          /                  .\\n0--<11>--1                  [24]\\n^         \\\\                  .\\n10         \\\\--[20]--6--[22]--8--[23]--9------(15)\\n                    |\\n                   [21]\\n                    |\\n                    7------(14)\\n\\n'"
      ]
     },
     "execution_count": 15,
     "metadata": {},
     "output_type": "execute_result"
    }
   ],
   "source": [
    "\"\"\"\n",
    "The small grid layout:\n",
    "\n",
    "                    3------(12)\n",
    "                    |\n",
    "                   [17]\n",
    "                    |    \n",
    "           /--[16]--2--[18]--4--[19]--5------(13)\n",
    "          /                  .\n",
    "0--<11>--1                  [24]\n",
    "^         \\                  .\n",
    "10         \\--[20]--6--[22]--8--[23]--9------(15)\n",
    "                    |\n",
    "                   [21]\n",
    "                    |\n",
    "                    7------(14)\n",
    "\n",
    "\"\"\""
   ]
  },
  {
   "cell_type": "code",
   "execution_count": 16,
   "id": "98f4573b",
   "metadata": {},
   "outputs": [
    {
     "data": {
      "text/plain": [
       "[np.int32(1),\n",
       " np.int32(2),\n",
       " np.int32(3),\n",
       " np.int32(4),\n",
       " np.int32(5),\n",
       " np.int32(6),\n",
       " np.int32(7),\n",
       " np.int32(8),\n",
       " np.int32(9)]"
      ]
     },
     "execution_count": 16,
     "metadata": {},
     "output_type": "execute_result"
    }
   ],
   "source": [
    "find_downstream_vertices(power_grid.graph, 11)"
   ]
  },
  {
   "cell_type": "code",
   "execution_count": 17,
   "id": "6ab61005",
   "metadata": {},
   "outputs": [
    {
     "data": {
      "text/plain": [
       "[np.int32(2), np.int32(3), np.int32(4), np.int32(5)]"
      ]
     },
     "execution_count": 17,
     "metadata": {},
     "output_type": "execute_result"
    }
   ],
   "source": [
    "find_downstream_vertices(power_grid.graph, 16)"
   ]
  },
  {
   "cell_type": "code",
   "execution_count": 18,
   "id": "670687aa",
   "metadata": {},
   "outputs": [
    {
     "data": {
      "text/plain": [
       "[np.int32(0), np.int32(1), np.int32(2), np.int32(3), np.int32(4), np.int32(5)]"
      ]
     },
     "execution_count": 18,
     "metadata": {},
     "output_type": "execute_result"
    }
   ],
   "source": [
    "power_grid.graph.graph[\"source_node_id\"] = 9\n",
    "\n",
    "find_downstream_vertices(power_grid.graph, 20)"
   ]
  },
  {
   "cell_type": "markdown",
   "id": "2e33d51c",
   "metadata": {},
   "source": [
    "### Assignment 3: Features build on the PowerGrid class\n",
    "\n",
    "Three features are designed to work on top with the data and functionality of the PowerGrid class\n",
    "\n",
    "1. EV penetration level\n",
    "    - Simulates a certain percentage of households with EV charges and calculates the additional load on the grid.\n",
    "2. Optimal tap position\n",
    "    - Calculates the optimal position of the transformer tap to optimize for one of the following 2 criteria:\n",
    "        - Lowest average voltage deviation at the nodes\n",
    "        - Lowest total energy loss in the lines\n",
    "3. n-1 calculation\n",
    "    - When a given line is disabled it will try to find an alternative line and calculate the power flow again. The results are returned in a table with a row for each alternative line, which stores the highest line load in the grid."
   ]
  },
  {
   "cell_type": "code",
   "execution_count": null,
   "id": "0baafa12",
   "metadata": {},
   "outputs": [],
   "source": [
    "power_grid = PowerGrid(path_large_grid, path_large_meta_data, path_large_p, path_large_q)\n",
    "power_grid.run()"
   ]
  },
  {
   "cell_type": "code",
   "execution_count": 21,
   "id": "165bfe2e",
   "metadata": {},
   "outputs": [
    {
     "data": {
      "text/html": [
       "<div>\n",
       "<style scoped>\n",
       "    .dataframe tbody tr th:only-of-type {\n",
       "        vertical-align: middle;\n",
       "    }\n",
       "\n",
       "    .dataframe tbody tr th {\n",
       "        vertical-align: top;\n",
       "    }\n",
       "\n",
       "    .dataframe thead th {\n",
       "        text-align: right;\n",
       "    }\n",
       "</style>\n",
       "<table border=\"1\" class=\"dataframe\">\n",
       "  <thead>\n",
       "    <tr style=\"text-align: right;\">\n",
       "      <th></th>\n",
       "      <th>energy_loss</th>\n",
       "      <th>max_loading_timestamp</th>\n",
       "      <th>max_loading</th>\n",
       "      <th>min_loading_timestamp</th>\n",
       "      <th>min_loading</th>\n",
       "    </tr>\n",
       "    <tr>\n",
       "      <th>line</th>\n",
       "      <th></th>\n",
       "      <th></th>\n",
       "      <th></th>\n",
       "      <th></th>\n",
       "      <th></th>\n",
       "    </tr>\n",
       "  </thead>\n",
       "  <tbody>\n",
       "    <tr>\n",
       "      <th>1204</th>\n",
       "      <td>53.617782</td>\n",
       "      <td>2025-11-07 09:45:00</td>\n",
       "      <td>5.824780e-02</td>\n",
       "      <td>2025-10-08 12:45:00</td>\n",
       "      <td>4.447163e-03</td>\n",
       "    </tr>\n",
       "    <tr>\n",
       "      <th>1205</th>\n",
       "      <td>0.481051</td>\n",
       "      <td>2025-04-07 10:30:00</td>\n",
       "      <td>5.680893e-03</td>\n",
       "      <td>2025-03-04 17:15:00</td>\n",
       "      <td>4.082249e-07</td>\n",
       "    </tr>\n",
       "    <tr>\n",
       "      <th>1206</th>\n",
       "      <td>54.896038</td>\n",
       "      <td>2025-11-05 23:15:00</td>\n",
       "      <td>5.442560e-02</td>\n",
       "      <td>2025-10-08 12:45:00</td>\n",
       "      <td>3.731235e-03</td>\n",
       "    </tr>\n",
       "    <tr>\n",
       "      <th>1207</th>\n",
       "      <td>0.585391</td>\n",
       "      <td>2025-05-29 02:30:00</td>\n",
       "      <td>4.752569e-03</td>\n",
       "      <td>2025-12-29 15:30:00</td>\n",
       "      <td>4.118517e-07</td>\n",
       "    </tr>\n",
       "    <tr>\n",
       "      <th>1208</th>\n",
       "      <td>50.530464</td>\n",
       "      <td>2025-11-07 09:45:00</td>\n",
       "      <td>5.648105e-02</td>\n",
       "      <td>2025-10-08 12:45:00</td>\n",
       "      <td>3.791173e-03</td>\n",
       "    </tr>\n",
       "    <tr>\n",
       "      <th>...</th>\n",
       "      <td>...</td>\n",
       "      <td>...</td>\n",
       "      <td>...</td>\n",
       "      <td>...</td>\n",
       "      <td>...</td>\n",
       "    </tr>\n",
       "    <tr>\n",
       "      <th>2006</th>\n",
       "      <td>2.671957</td>\n",
       "      <td>2025-10-02 19:45:00</td>\n",
       "      <td>2.444916e-07</td>\n",
       "      <td>2025-11-05 07:30:00</td>\n",
       "      <td>2.399379e-07</td>\n",
       "    </tr>\n",
       "    <tr>\n",
       "      <th>2007</th>\n",
       "      <td>2.638616</td>\n",
       "      <td>2025-10-08 17:45:00</td>\n",
       "      <td>2.445316e-07</td>\n",
       "      <td>2025-11-04 22:30:00</td>\n",
       "      <td>2.401123e-07</td>\n",
       "    </tr>\n",
       "    <tr>\n",
       "      <th>2008</th>\n",
       "      <td>3.118250</td>\n",
       "      <td>2025-10-02 20:15:00</td>\n",
       "      <td>2.444854e-07</td>\n",
       "      <td>2025-11-07 15:00:00</td>\n",
       "      <td>2.395951e-07</td>\n",
       "    </tr>\n",
       "    <tr>\n",
       "      <th>2009</th>\n",
       "      <td>3.005839</td>\n",
       "      <td>2025-08-13 05:00:00</td>\n",
       "      <td>2.444597e-07</td>\n",
       "      <td>2025-11-05 23:15:00</td>\n",
       "      <td>2.398150e-07</td>\n",
       "    </tr>\n",
       "    <tr>\n",
       "      <th>2010</th>\n",
       "      <td>3.280013</td>\n",
       "      <td>2025-12-05 00:00:00</td>\n",
       "      <td>2.445044e-07</td>\n",
       "      <td>2025-11-05 18:30:00</td>\n",
       "      <td>2.400471e-07</td>\n",
       "    </tr>\n",
       "  </tbody>\n",
       "</table>\n",
       "<p>807 rows × 5 columns</p>\n",
       "</div>"
      ],
      "text/plain": [
       "      energy_loss max_loading_timestamp   max_loading min_loading_timestamp  \\\n",
       "line                                                                          \n",
       "1204    53.617782   2025-11-07 09:45:00  5.824780e-02   2025-10-08 12:45:00   \n",
       "1205     0.481051   2025-04-07 10:30:00  5.680893e-03   2025-03-04 17:15:00   \n",
       "1206    54.896038   2025-11-05 23:15:00  5.442560e-02   2025-10-08 12:45:00   \n",
       "1207     0.585391   2025-05-29 02:30:00  4.752569e-03   2025-12-29 15:30:00   \n",
       "1208    50.530464   2025-11-07 09:45:00  5.648105e-02   2025-10-08 12:45:00   \n",
       "...           ...                   ...           ...                   ...   \n",
       "2006     2.671957   2025-10-02 19:45:00  2.444916e-07   2025-11-05 07:30:00   \n",
       "2007     2.638616   2025-10-08 17:45:00  2.445316e-07   2025-11-04 22:30:00   \n",
       "2008     3.118250   2025-10-02 20:15:00  2.444854e-07   2025-11-07 15:00:00   \n",
       "2009     3.005839   2025-08-13 05:00:00  2.444597e-07   2025-11-05 23:15:00   \n",
       "2010     3.280013   2025-12-05 00:00:00  2.445044e-07   2025-11-05 18:30:00   \n",
       "\n",
       "       min_loading  \n",
       "line                \n",
       "1204  4.447163e-03  \n",
       "1205  4.082249e-07  \n",
       "1206  3.731235e-03  \n",
       "1207  4.118517e-07  \n",
       "1208  3.791173e-03  \n",
       "...            ...  \n",
       "2006  2.399379e-07  \n",
       "2007  2.401123e-07  \n",
       "2008  2.395951e-07  \n",
       "2009  2.398150e-07  \n",
       "2010  2.400471e-07  \n",
       "\n",
       "[807 rows x 5 columns]"
      ]
     },
     "execution_count": 21,
     "metadata": {},
     "output_type": "execute_result"
    }
   ],
   "source": [
    "power_grid.line_summary"
   ]
  },
  {
   "cell_type": "code",
   "execution_count": null,
   "id": "7e74ad98",
   "metadata": {},
   "outputs": [
    {
     "data": {
      "text/html": [
       "<div>\n",
       "<style scoped>\n",
       "    .dataframe tbody tr th:only-of-type {\n",
       "        vertical-align: middle;\n",
       "    }\n",
       "\n",
       "    .dataframe tbody tr th {\n",
       "        vertical-align: top;\n",
       "    }\n",
       "\n",
       "    .dataframe thead th {\n",
       "        text-align: right;\n",
       "    }\n",
       "</style>\n",
       "<table border=\"1\" class=\"dataframe\">\n",
       "  <thead>\n",
       "    <tr style=\"text-align: right;\">\n",
       "      <th></th>\n",
       "      <th>max_u_pu_node</th>\n",
       "      <th>max_u_pu</th>\n",
       "      <th>min_u_pu_node</th>\n",
       "      <th>min_u_pu</th>\n",
       "    </tr>\n",
       "    <tr>\n",
       "      <th>timestamp</th>\n",
       "      <th></th>\n",
       "      <th></th>\n",
       "      <th></th>\n",
       "      <th></th>\n",
       "    </tr>\n",
       "  </thead>\n",
       "  <tbody>\n",
       "    <tr>\n",
       "      <th>2025-01-01 00:00:00</th>\n",
       "      <td>1</td>\n",
       "      <td>1.074658</td>\n",
       "      <td>0</td>\n",
       "      <td>1.049898</td>\n",
       "    </tr>\n",
       "    <tr>\n",
       "      <th>2025-01-01 00:15:00</th>\n",
       "      <td>1</td>\n",
       "      <td>1.074532</td>\n",
       "      <td>0</td>\n",
       "      <td>1.049891</td>\n",
       "    </tr>\n",
       "    <tr>\n",
       "      <th>2025-01-01 00:30:00</th>\n",
       "      <td>1</td>\n",
       "      <td>1.074927</td>\n",
       "      <td>0</td>\n",
       "      <td>1.049916</td>\n",
       "    </tr>\n",
       "    <tr>\n",
       "      <th>2025-01-01 00:45:00</th>\n",
       "      <td>1</td>\n",
       "      <td>1.074601</td>\n",
       "      <td>0</td>\n",
       "      <td>1.049894</td>\n",
       "    </tr>\n",
       "    <tr>\n",
       "      <th>2025-01-01 01:00:00</th>\n",
       "      <td>1</td>\n",
       "      <td>1.074482</td>\n",
       "      <td>0</td>\n",
       "      <td>1.049885</td>\n",
       "    </tr>\n",
       "    <tr>\n",
       "      <th>...</th>\n",
       "      <td>...</td>\n",
       "      <td>...</td>\n",
       "      <td>...</td>\n",
       "      <td>...</td>\n",
       "    </tr>\n",
       "    <tr>\n",
       "      <th>2025-12-31 22:45:00</th>\n",
       "      <td>1</td>\n",
       "      <td>1.070302</td>\n",
       "      <td>0</td>\n",
       "      <td>1.049715</td>\n",
       "    </tr>\n",
       "    <tr>\n",
       "      <th>2025-12-31 23:00:00</th>\n",
       "      <td>1</td>\n",
       "      <td>1.070859</td>\n",
       "      <td>0</td>\n",
       "      <td>1.049746</td>\n",
       "    </tr>\n",
       "    <tr>\n",
       "      <th>2025-12-31 23:15:00</th>\n",
       "      <td>1</td>\n",
       "      <td>1.070879</td>\n",
       "      <td>0</td>\n",
       "      <td>1.049734</td>\n",
       "    </tr>\n",
       "    <tr>\n",
       "      <th>2025-12-31 23:30:00</th>\n",
       "      <td>1</td>\n",
       "      <td>1.070974</td>\n",
       "      <td>0</td>\n",
       "      <td>1.049742</td>\n",
       "    </tr>\n",
       "    <tr>\n",
       "      <th>2025-12-31 23:45:00</th>\n",
       "      <td>1</td>\n",
       "      <td>1.070169</td>\n",
       "      <td>0</td>\n",
       "      <td>1.049699</td>\n",
       "    </tr>\n",
       "  </tbody>\n",
       "</table>\n",
       "<p>35040 rows × 4 columns</p>\n",
       "</div>"
      ],
      "text/plain": [
       "                     max_u_pu_node  max_u_pu  min_u_pu_node  min_u_pu\n",
       "timestamp                                                            \n",
       "2025-01-01 00:00:00              1  1.074658              0  1.049898\n",
       "2025-01-01 00:15:00              1  1.074532              0  1.049891\n",
       "2025-01-01 00:30:00              1  1.074927              0  1.049916\n",
       "2025-01-01 00:45:00              1  1.074601              0  1.049894\n",
       "2025-01-01 01:00:00              1  1.074482              0  1.049885\n",
       "...                            ...       ...            ...       ...\n",
       "2025-12-31 22:45:00              1  1.070302              0  1.049715\n",
       "2025-12-31 23:00:00              1  1.070859              0  1.049746\n",
       "2025-12-31 23:15:00              1  1.070879              0  1.049734\n",
       "2025-12-31 23:30:00              1  1.070974              0  1.049742\n",
       "2025-12-31 23:45:00              1  1.070169              0  1.049699\n",
       "\n",
       "[35040 rows x 4 columns]"
      ]
     },
     "execution_count": 22,
     "metadata": {},
     "output_type": "execute_result"
    }
   ],
   "source": [
    "power_grid.voltage_summary"
   ]
  },
  {
   "cell_type": "code",
   "execution_count": null,
   "id": "d9f3376c",
   "metadata": {},
   "outputs": [],
   "source": [
    "ev_penetration = ev_penetration_level(power_grid, path_large_ev, 0.2)"
   ]
  },
  {
   "cell_type": "code",
   "execution_count": null,
   "id": "39eed9fc",
   "metadata": {},
   "outputs": [],
   "source": [
    "ev_penetration[0]"
   ]
  },
  {
   "cell_type": "code",
   "execution_count": null,
   "id": "4f6892e2",
   "metadata": {},
   "outputs": [],
   "source": [
    "ev_penetration[1]"
   ]
  }
 ],
 "metadata": {
  "kernelspec": {
   "display_name": ".venv",
   "language": "python",
   "name": "python3"
  },
  "language_info": {
   "codemirror_mode": {
    "name": "ipython",
    "version": 3
   },
   "file_extension": ".py",
   "mimetype": "text/x-python",
   "name": "python",
   "nbconvert_exporter": "python",
   "pygments_lexer": "ipython3",
   "version": "3.12.3"
  }
 },
 "nbformat": 4,
 "nbformat_minor": 5
}
